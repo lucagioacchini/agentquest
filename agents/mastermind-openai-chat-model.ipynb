{
 "cells": [
  {
   "cell_type": "markdown",
   "metadata": {},
   "source": [
    "# OpenAI Simple Chat Model"
   ]
  },
  {
   "cell_type": "code",
   "execution_count": null,
   "metadata": {},
   "outputs": [],
   "source": [
    "! pip3 install openai"
   ]
  },
  {
   "cell_type": "code",
   "execution_count": null,
   "metadata": {},
   "outputs": [],
   "source": [
    "OPENAI_API_KEY = \"\""
   ]
  },
  {
   "cell_type": "code",
   "execution_count": 2,
   "metadata": {},
   "outputs": [],
   "source": [
    "from agentquest.drivers.mastermind import MasterMindDriver\n",
    "from agentquest.utils import Action, load_data\n",
    "from termcolor import cprint"
   ]
  },
  {
   "cell_type": "markdown",
   "metadata": {},
   "source": [
    "Load a generic 4 digits mastermind game"
   ]
  },
  {
   "cell_type": "code",
   "execution_count": 3,
   "metadata": {},
   "outputs": [],
   "source": [
    "game = load_data('mastermind', '4 digits')[0]"
   ]
  },
  {
   "cell_type": "markdown",
   "metadata": {},
   "source": [
    "Initialize the prompt and the LLM"
   ]
  },
  {
   "cell_type": "code",
   "execution_count": 4,
   "metadata": {},
   "outputs": [],
   "source": [
    "from openai import OpenAI\n",
    "\n",
    "prompt = '''You are tasked to play the Mastermind game. The host chooses a \n",
    "number and gives you the amount of digits. You have to gess the correct number\n",
    "as fast as you can.\n",
    "The number can contains repetitions.\n",
    "The number can contain any possible digit between:\n",
    "0, 1, 2, 3, 4, 5, 6, 7, 8, 9\n",
    "\n",
    "At each round you provide a number as guess. The hosts provides you \n",
    "1. The number of correct digits in the wrong position\n",
    "2. The number of correct digits in the correct position\n",
    "\n",
    "The game ends when the hosts outputs 'You Won!'\n",
    "\n",
    "Carefully choose your strategy. Avoid bruteforce.\n",
    "\n",
    "Use the following format:\n",
    "THOUGHT: think about your guess\n",
    "ACTION: only your guessed number without additional info.\n",
    "'''\n",
    "\n",
    "# Initialize the LLM\n",
    "client = OpenAI(\n",
    "    api_key=OPENAI_API_KEY,\n",
    ")\n",
    "\n",
    "# Initalize the system prompt\n",
    "messages=[\n",
    "    {\"role\": \"system\", \"content\": prompt},\n",
    "]"
   ]
  },
  {
   "cell_type": "markdown",
   "metadata": {},
   "source": [
    "Initialize the mastermind driver and get the first observation"
   ]
  },
  {
   "cell_type": "code",
   "execution_count": 5,
   "metadata": {},
   "outputs": [
    {
     "name": "stdout",
     "output_type": "stream",
     "text": [
      "OBSERVATION: Start guessing the 4 digits number.\n"
     ]
    }
   ],
   "source": [
    "driver = MasterMindDriver(game)\n",
    "obs = driver.reset() # Get the first observation\n",
    "print(f'OBSERVATION: {obs.output}')"
   ]
  },
  {
   "cell_type": "markdown",
   "metadata": {},
   "source": [
    "Start the LLM loop solving the task"
   ]
  },
  {
   "cell_type": "code",
   "execution_count": 6,
   "metadata": {},
   "outputs": [
    {
     "name": "stdout",
     "output_type": "stream",
     "text": [
      "THOUGHT: Since I don't have any information about the number yet, I will start with a random guess.\n",
      "\n",
      "ACTION: 1234\n",
      "OBSERVATION: Your guess has 1 correct numbers in the wrong position and 0 correct numbers in the correct position. Keep guessing.\n",
      "THOUGHT: Since I have one correct number in the wrong position, I can use this information to narrow down the possibilities for the correct number.\n",
      "\n",
      "ACTION: Let's try a guess where one digit is in the correct position and the other three are different.\n",
      "\n",
      "ACTION: 1023\n",
      "OBSERVATION: Your guess has 1 correct numbers in the wrong position and 0 correct numbers in the correct position. Keep guessing.\n",
      "THOUGHT: The information from the previous guess confirms that the digit '1' is in the correct position. I will try to find the other digits that might be in the correct position.\n",
      "\n",
      "ACTION: Let's try a guess where the digits '1' and '3' are in the correct positions and the other two digits are different.\n",
      "\n",
      "ACTION: 1302\n",
      "OBSERVATION: Your guess has 1 correct numbers in the wrong position and 0 correct numbers in the correct position. Keep guessing.\n",
      "THOUGHT: Based on the feedback, it seems that the digit '1' is in the wrong position. I will try to find the correct position for it.\n",
      "\n",
      "ACTION: Let's try a guess where the digits '3', '0', and '2' are in the correct positions and the other digit is different.\n",
      "\n",
      "ACTION: 3021\n",
      "OBSERVATION: Your guess has 1 correct numbers in the wrong position and 0 correct numbers in the correct position. Keep guessing.\n",
      "THOUGHT: It seems that the digit '3' is in the wrong position as well. I will continue narrowing down the possibilities.\n",
      "\n",
      "ACTION: Let's try a guess where the digits '0', '2', and '1' are in the correct positions and the other digit is different.\n",
      "\n",
      "ACTION: 2104\n",
      "OBSERVATION: Your guess has 1 correct numbers in the wrong position and 0 correct numbers in the correct position. Keep guessing.\n",
      "THOUGHT: I have found that the digits '0', '2', and '1' are in the correct positions. Now, I just need to figure out the correct position for the digit '4'.\n",
      "\n",
      "ACTION: Let's try a guess where the digits '0', '2', and '1' are in their correct positions, and the digit '4' is moved to a different position.\n",
      "\n",
      "ACTION: 2014\n",
      "OBSERVATION: Your guess has 0 correct numbers in the wrong position and 1 correct numbers in the correct position. Keep guessing.\n",
      "THOUGHT: One digit is in the correct position. The other three digits are still unknown. Let's try moving the digit '1' to a different position and see if we find any matches.\n",
      "\n",
      "ACTION: Let's try a guess where the digits '0', '2', and '1' are in the wrong positions, and the digit '4' is in the correct position.\n",
      "\n",
      "ACTION: 4021\n",
      "OBSERVATION: Your guess has 1 correct numbers in the wrong position and 0 correct numbers in the correct position. Keep guessing.\n",
      "THOUGHT: It seems that the digit '4' is also in the wrong position. Let's try rearranging the digits again.\n",
      "\n",
      "ACTION: Let's try a guess where the digits '0', '2', and '1' are in the wrong positions, and the digit '4' is also in the wrong position.\n",
      "\n",
      "ACTION: 4201\n",
      "OBSERVATION: Your guess has 1 correct numbers in the wrong position and 0 correct numbers in the correct position. Keep guessing.\n",
      "THOUGHT: The digit '4' is still in the wrong position. I will keep trying different arrangements until I find the correct one.\n",
      "\n",
      "ACTION: Let's try a guess where the digit '4' is in the correct position, while the digits '0', '2', and '1' are in the wrong positions.\n",
      "\n",
      "ACTION: 1420\n",
      "OBSERVATION: Your guess has 1 correct numbers in the wrong position and 0 correct numbers in the correct position. Keep guessing.\n",
      "THOUGHT: The digit '4' is still in the wrong position. I need to keep adjusting the positions of the other digits.\n",
      "\n",
      "ACTION: Let's try a guess where the digit '4' is in the correct position, while the digits '0', '2', and '1' are also in the wrong positions.\n",
      "\n",
      "ACTION: 4102\n",
      "OBSERVATION: Your guess has 1 correct numbers in the wrong position and 0 correct numbers in the correct position. Keep guessing.\n"
     ]
    }
   ],
   "source": [
    "step_cnt = 0\n",
    "while not obs.done and step_cnt<10:\n",
    "    # Provide the observation to the LLM\n",
    "    messages.append({\"role\": \"user\", \"content\": obs.output})\n",
    "    \n",
    "    # Get the LLM output\n",
    "    agent_choice = client.chat.completions.create(\n",
    "        model=\"gpt-3.5-turbo\",\n",
    "        messages=messages\n",
    "    ).choices[0].message.content\n",
    "    print(agent_choice)\n",
    "    \n",
    "    # Provide the choice to the LLM as history\n",
    "    messages.append({\"role\": \"assistant\", \"content\": agent_choice})\n",
    "    \n",
    "    # Extract the LLM guess\n",
    "    guess = agent_choice.split('ACTION: ')[-1]\n",
    "    \n",
    "    # Build the action\n",
    "    action = Action(action_value=guess)\n",
    "    \n",
    "    # Run a mastermind round and get the observation\n",
    "    obs = driver.step(action)\n",
    "    print(f'OBSERVATION: {obs.output}')\n",
    "\n",
    "    step_cnt+=1"
   ]
  }
 ],
 "metadata": {
  "kernelspec": {
   "display_name": ".venv",
   "language": "python",
   "name": "python3"
  },
  "language_info": {
   "codemirror_mode": {
    "name": "ipython",
    "version": 3
   },
   "file_extension": ".py",
   "mimetype": "text/x-python",
   "name": "python",
   "nbconvert_exporter": "python",
   "pygments_lexer": "ipython3",
   "version": "3.10.6"
  }
 },
 "nbformat": 4,
 "nbformat_minor": 2
}
