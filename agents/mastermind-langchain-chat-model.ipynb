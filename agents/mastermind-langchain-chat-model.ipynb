{
 "cells": [
  {
   "cell_type": "markdown",
   "metadata": {},
   "source": [
    "# LangChain Simple Chat Model (Azure)"
   ]
  },
  {
   "cell_type": "code",
   "execution_count": null,
   "metadata": {},
   "outputs": [],
   "source": [
    "! pip3 install openai\n",
    "! pip3 install langchain"
   ]
  },
  {
   "cell_type": "code",
   "execution_count": null,
   "metadata": {},
   "outputs": [],
   "source": [
    "AZURE_OPENAI_API_VERSION = \"\"\n",
    "AZURE_OPENAI_API_KEY = \"\"\n",
    "AZURE_OPENAI_API_BASE = \"\"\n",
    "AZURE_DEPLOYMENT_NAME = \"\""
   ]
  },
  {
   "cell_type": "code",
   "execution_count": 8,
   "metadata": {},
   "outputs": [],
   "source": [
    "from agentquest.drivers.mastermind import MasterMindDriver\n",
    "from agentquest.utils import Action, load_data"
   ]
  },
  {
   "cell_type": "markdown",
   "metadata": {},
   "source": [
    "Load a generic 4 digits mastermind game"
   ]
  },
  {
   "cell_type": "code",
   "execution_count": 9,
   "metadata": {},
   "outputs": [],
   "source": [
    "game = load_data('mastermind', '4 digits')[0]"
   ]
  },
  {
   "cell_type": "markdown",
   "metadata": {},
   "source": [
    "Initialize the prompt and the LLM"
   ]
  },
  {
   "cell_type": "code",
   "execution_count": null,
   "metadata": {},
   "outputs": [],
   "source": [
    "from langchain.chat_models import AzureChatOpenAI\n",
    "from langchain.prompts import ChatPromptTemplate\n",
    "\n",
    "prompt = '''You are tasked to play the Mastermind game. The host chooses a \n",
    "number and gives you the amount of digits. You have to gess the correct number\n",
    "as fast as you can.\n",
    "The number can contains repetitions.\n",
    "The number can contain any possible digit between:\n",
    "0, 1, 2, 3, 4, 5, 6, 7, 8, 9\n",
    "\n",
    "At each round you provide a number as guess. The hosts provides you \n",
    "1. The number of correct digits in the wrong position\n",
    "2. The number of correct digits in the correct position\n",
    "\n",
    "The game ends when the hosts outputs 'You Won!'\n",
    "\n",
    "Carefully choose your strategy. Avoid bruteforce.\n",
    "\n",
    "Use the following format:\n",
    "THOUGHT: think about your guess\n",
    "ACTION: only your guessed number without additional info.\n",
    "'''\n",
    "\n",
    "# Initialize the LLM\n",
    "llm = AzureChatOpenAI(\n",
    "    openai_api_type='azure',\n",
    "    openai_api_version=AZURE_OPENAI_API_VERSION,\n",
    "    openai_api_key=AZURE_OPENAI_API_KEY,\n",
    "    openai_api_base=AZURE_OPENAI_API_BASE,\n",
    "    deployment_name=AZURE_DEPLOYMENT_NAME,\n",
    "    temperature=0\n",
    ")\n",
    "\n",
    "# Initalize the system prompt\n",
    "chat_template = ChatPromptTemplate.from_messages([\n",
    "    (\"system\", prompt),\n",
    "    ('ai','OK. I\\'ll follow your instructions and try my best to solve the task.'),\n",
    "])\n",
    "messages = chat_template.format_messages()"
   ]
  },
  {
   "cell_type": "markdown",
   "metadata": {},
   "source": [
    "Initialize the mastermind driver and get the first observation"
   ]
  },
  {
   "cell_type": "code",
   "execution_count": 11,
   "metadata": {},
   "outputs": [
    {
     "name": "stdout",
     "output_type": "stream",
     "text": [
      "OBSERVATION: Start guessing the 4 digits number.\n"
     ]
    }
   ],
   "source": [
    "driver = MasterMindDriver(game)\n",
    "obs = driver.reset() # Get the first observation\n",
    "print(f'OBSERVATION: {obs.output}')"
   ]
  },
  {
   "cell_type": "markdown",
   "metadata": {},
   "source": [
    "Start the LLM loop solving the task"
   ]
  },
  {
   "cell_type": "code",
   "execution_count": 12,
   "metadata": {},
   "outputs": [
    {
     "name": "stdout",
     "output_type": "stream",
     "text": [
      "THOUGHT: I'll start by guessing 1234. This will give me information about whether any of these numbers are in the secret number and if any are in the correct position.\n",
      "ACTION: 1234\n",
      "OBSERVATION: Your guess has 1 correct numbers in the wrong position and 0 correct numbers in the correct position. Keep guessing.\n",
      "THOUGHT: This means that one of the numbers 1, 2, 3, or 4 is in the secret number, but not in the position I guessed. I'll keep the number 1 in my guess but change its position, and replace the other numbers with new ones. I'll guess 1567 next.\n",
      "ACTION: 1567\n",
      "OBSERVATION: Your guess has 2 correct numbers in the wrong position and 0 correct numbers in the correct position. Keep guessing.\n",
      "THOUGHT: This means that two of the numbers 1, 5, 6, or 7 are in the secret number, but not in the positions I guessed. I'll keep the numbers 1 and 5 in my guess but change their positions, and replace the other numbers with new ones. I'll guess 5189 next.\n",
      "ACTION: 5189\n",
      "OBSERVATION: Your guess has 3 correct numbers in the wrong position and 1 correct numbers in the correct position. Keep guessing.\n",
      "THOUGHT: This means that three of the numbers 5, 1, 8, or 9 are in the secret number but not in the positions I guessed, and one of them is in the correct position. I'll keep the numbers 5, 1, and 8 in my guess but change their positions, and replace the number 9 with a new one. I'll guess 8512 next.\n",
      "ACTION: 8512\n",
      "OBSERVATION: Your guess has 2 correct numbers in the wrong position and 1 correct numbers in the correct position. Keep guessing.\n",
      "THOUGHT: This means that two of the numbers 8, 5, 1, or 2 are in the secret number but not in the positions I guessed, and one of them is in the correct position. I'll keep the numbers 8, 5, and 1 in my guess but change their positions, and replace the number 2 with a new one. I'll guess 1853 next.\n",
      "ACTION: 1853\n",
      "OBSERVATION: Your guess has 3 correct numbers in the wrong position and 0 correct numbers in the correct position. Keep guessing.\n",
      "THOUGHT: This means that three of the numbers 1, 8, 5, or 3 are in the secret number but not in the positions I guessed. I'll keep the numbers 1, 8, and 5 in my guess but change their positions. I'll guess 5813 next.\n",
      "ACTION: 5813\n",
      "OBSERVATION: Your guess has 1 correct numbers in the wrong position and 2 correct numbers in the correct position. Keep guessing.\n",
      "THOUGHT: This means that one of the numbers 5, 8, 1, or 3 is in the secret number but not in the position I guessed, and two of them are in the correct positions. I'll keep the numbers 5, 8, and 1 in my guess but change their positions. I'll guess 8153 next.\n",
      "ACTION: 8153\n",
      "OBSERVATION: Your guess has 3 correct numbers in the wrong position and 0 correct numbers in the correct position. Keep guessing.\n",
      "THOUGHT: This means that three of the numbers 8, 1, 5, or 3 are in the secret number but not in the positions I guessed. I'll keep the numbers 8, 1, and 5 in my guess but change their positions. I'll guess 1583 next.\n",
      "ACTION: 1583\n",
      "OBSERVATION: Your guess has 3 correct numbers in the wrong position and 0 correct numbers in the correct position. Keep guessing.\n",
      "THOUGHT: This means that three of the numbers 1, 5, 8, or 3 are in the secret number but not in the positions I guessed. I'll keep the numbers 1, 5, and 8 in my guess but change their positions. I'll guess 5183 next.\n",
      "ACTION: 5183\n",
      "OBSERVATION: Your guess has 2 correct numbers in the wrong position and 1 correct numbers in the correct position. Keep guessing.\n",
      "THOUGHT: This means that two of the numbers 5, 1, 8, or 3 are in the secret number but not in the positions I guessed, and one of them is in the correct position. I'll keep the numbers 5, 1, and 8 in my guess but change their positions. I'll guess 8513 next.\n",
      "ACTION: 8513\n",
      "OBSERVATION: Your guess has 2 correct numbers in the wrong position and 1 correct numbers in the correct position. Keep guessing.\n"
     ]
    }
   ],
   "source": [
    "from langchain.schema.messages import HumanMessage, AIMessage\n",
    "\n",
    "step_cnt = 0\n",
    "while not obs.done and step_cnt<10:\n",
    "    # Provide the observation to the LLM\n",
    "    messages.append(HumanMessage(content=obs.output))\n",
    "    \n",
    "    # Get the LLM output\n",
    "    agent_choice = llm(messages).content\n",
    "    print(agent_choice)\n",
    "    \n",
    "    # Provide the choice to the LLM as history\n",
    "    messages.append(AIMessage(content=agent_choice))\n",
    "    \n",
    "    # Extract the LLM guess\n",
    "    guess = agent_choice.split('ACTION: ')[-1]\n",
    "    \n",
    "    # Build the action\n",
    "    action = Action(action_value=guess)\n",
    "    \n",
    "    # Run a mastermind round and get the observation\n",
    "    obs = driver.step(action)\n",
    "    print(f'OBSERVATION: {obs.output}')\n",
    "\n",
    "    step_cnt+=1"
   ]
  }
 ],
 "metadata": {
  "kernelspec": {
   "display_name": ".venv",
   "language": "python",
   "name": "python3"
  },
  "language_info": {
   "codemirror_mode": {
    "name": "ipython",
    "version": 3
   },
   "file_extension": ".py",
   "mimetype": "text/x-python",
   "name": "python",
   "nbconvert_exporter": "python",
   "pygments_lexer": "ipython3",
   "version": "3.10.6"
  }
 },
 "nbformat": 4,
 "nbformat_minor": 2
}
