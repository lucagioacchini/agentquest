{
 "cells": [
  {
   "cell_type": "markdown",
   "metadata": {},
   "source": [
    "# LangChain ReAct agent"
   ]
  },
  {
   "cell_type": "code",
   "execution_count": null,
   "metadata": {},
   "outputs": [],
   "source": [
    "! pip3 install openai\n",
    "! pip3 install langchain"
   ]
  },
  {
   "cell_type": "code",
   "execution_count": null,
   "metadata": {},
   "outputs": [],
   "source": [
    "AZURE_OPENAI_API_VERSION = \"\"\n",
    "AZURE_OPENAI_API_KEY = \"\"\n",
    "AZURE_OPENAI_API_BASE = \"\"\n",
    "AZURE_DEPLOYMENT_NAME = \"\""
   ]
  },
  {
   "cell_type": "code",
   "execution_count": 2,
   "metadata": {},
   "outputs": [],
   "source": [
    "from agentquest.drivers.mastermind import MasterMindDriver\n",
    "from agentquest.utils import Action, load_data\n",
    "from termcolor import cprint"
   ]
  },
  {
   "cell_type": "markdown",
   "metadata": {},
   "source": [
    "Load a generic 4 digits mastermind game"
   ]
  },
  {
   "cell_type": "code",
   "execution_count": 3,
   "metadata": {},
   "outputs": [],
   "source": [
    "game = load_data('mastermind', '4 digits')[0]"
   ]
  },
  {
   "cell_type": "markdown",
   "metadata": {},
   "source": [
    "Initialize the prompt and the ReAct agent"
   ]
  },
  {
   "cell_type": "code",
   "execution_count": null,
   "metadata": {},
   "outputs": [],
   "source": [
    "from langchain.agents import create_react_agent\n",
    "from langchain.chat_models import AzureChatOpenAI\n",
    "from langchain.prompts import StringPromptTemplate\n",
    "from langchain.tools.base import BaseTool\n",
    "from typing import List\n",
    "\n",
    "prompt = \"\"\"\n",
    "You are tasked to play the Mastermind game. The host chooses a number and gives \n",
    "you the amount of digits. You have to gess the correct number as fast as you can.\n",
    "\n",
    "Rules:\n",
    "1. At each round you provide a number as guess. The hosts provides you the number \n",
    "of correct digits in the wrong position and the number of correct digits in the \n",
    "correct position.\n",
    "2. The game ends when the hosts outputs 'You Won!'\n",
    "3. The number can contain repetitions.\n",
    "4. The number can contain any possible digit.\n",
    "5. Avoid bruteforce.\n",
    "\n",
    "Use the following tools:\n",
    "{tools}\n",
    "\n",
    "Use the following format:\n",
    "\n",
    "Thought: summarize the info in the last observation and think about what to do.\n",
    "Action: the action to take, should be one of [{tool_names}]\n",
    "Action Input: the input to the action.\n",
    "Observation: the result of the action.\n",
    "... (this Thought/Action/Action Input/Observation can repeat N times)\n",
    "Final Answer: always provide the final answer or summarise what you did. Remember the keyword 'Final Answer' before\n",
    "\n",
    "Input task: {input}\n",
    "\n",
    "{agent_scratchpad}\n",
    "\"\"\"\n",
    "\n",
    "llm = AzureChatOpenAI(\n",
    "    openai_api_type='azure',\n",
    "    openai_api_version=AZURE_OPENAI_API_VERSION,\n",
    "    openai_api_key=AZURE_OPENAI_API_KEY,\n",
    "    openai_api_base=AZURE_OPENAI_API_BASE,\n",
    "    deployment_name=AZURE_DEPLOYMENT_NAME,\n",
    "    temperature=0\n",
    ")\n",
    "\n",
    "class CustomPromptTemplate(StringPromptTemplate):\n",
    "    template: str\n",
    "    tools: List[BaseTool]\n",
    "\n",
    "    def format(self, **kwargs) -> str:\n",
    "        # Get the intermediate steps (AgentAction, Observation tuples)\n",
    "        # Format them in a particular way\n",
    "        intermediate_steps = kwargs.pop(\"intermediate_steps\")\n",
    "        \n",
    "        thoughts = \"\"\n",
    "        for action, observation in intermediate_steps:\n",
    "            thoughts += action.log\n",
    "            thoughts += f\"\\nObservation: {observation}\\nThought: \"\n",
    "\n",
    "        # Set the agent_scratchpad variable to that value\n",
    "        kwargs[\"agent_scratchpad\"] = thoughts\n",
    "        #print(thoughts)\n",
    "        \n",
    "        # Create a tools variable from the list of tools provided\n",
    "        kwargs[\"tools\"] = \"\\n\".join(\n",
    "            [f\"{tool.name}: {tool.description}\" for tool in self.tools]\n",
    "        )\n",
    "        \n",
    "        # Create a list of tool names for the tools provided\n",
    "        kwargs[\"tool_names\"] = \", \".join([tool.name for tool in self.tools])\n",
    "\n",
    "        return self.template.format(**kwargs)\n",
    "\n",
    "# Define a dummy tool for closed-box environments\n",
    "class ProxyTool(BaseTool):\n",
    "    name = \"proxytool\"\n",
    "    description = \"Provide the action you want to perform\"\n",
    "    def _run(self):\n",
    "        pass"
   ]
  },
  {
   "cell_type": "code",
   "execution_count": 5,
   "metadata": {},
   "outputs": [],
   "source": [
    "prompt = CustomPromptTemplate(\n",
    "    template=prompt,\n",
    "    tools=[ProxyTool()],\n",
    "    input_variables=[\n",
    "        \"input\", \n",
    "        \"intermediate_steps\", \n",
    "        \"tools\", \n",
    "        \"tool_names\", \n",
    "        \"agent_scratchpad\"\n",
    "    ],\n",
    ")\n",
    "agent = create_react_agent(llm, [ProxyTool()], prompt)\n",
    "intermediate_steps = []"
   ]
  },
  {
   "cell_type": "markdown",
   "metadata": {},
   "source": [
    "Initialize the mastermind driver and get the first observation"
   ]
  },
  {
   "cell_type": "code",
   "execution_count": 6,
   "metadata": {},
   "outputs": [
    {
     "name": "stdout",
     "output_type": "stream",
     "text": [
      "OBSERVATION: Start guessing the 4 digits number.\n"
     ]
    }
   ],
   "source": [
    "driver = MasterMindDriver(game)\n",
    "obs = driver.reset() # Get the first observation\n",
    "print(f'OBSERVATION: {obs.output}')"
   ]
  },
  {
   "cell_type": "markdown",
   "metadata": {},
   "source": [
    "Start the Agent loop solving the task"
   ]
  },
  {
   "cell_type": "code",
   "execution_count": 7,
   "metadata": {},
   "outputs": [
    {
     "name": "stdout",
     "output_type": "stream",
     "text": [
      "1234\n",
      "\n",
      "Your guess has 1 correct numbers in the wrong position and 0 correct numbers in the correct position. Keep guessing.\n",
      "1256\n",
      "\n",
      "Your guess has 2 correct numbers in the wrong position and 0 correct numbers in the correct position. Keep guessing.\n",
      "1789\n",
      "\n",
      "Your guess has 3 correct numbers in the wrong position and 0 correct numbers in the correct position. Keep guessing.\n",
      "7812\n",
      "\n",
      "Your guess has 1 correct numbers in the wrong position and 1 correct numbers in the correct position. Keep guessing.\n",
      "2178\n",
      "\n",
      "Your guess has 1 correct numbers in the wrong position and 1 correct numbers in the correct position. Keep guessing.\n",
      "2718\n",
      "\n",
      "Your guess has 0 correct numbers in the wrong position and 2 correct numbers in the correct position. Keep guessing.\n",
      "2713\n",
      "\n",
      "Your guess has 0 correct numbers in the wrong position and 1 correct numbers in the correct position. Keep guessing.\n",
      "2173\n",
      "\n",
      "Your guess has 1 correct numbers in the wrong position and 0 correct numbers in the correct position. Keep guessing.\n",
      "2711\n",
      "\n",
      "Your guess has 0 correct numbers in the wrong position and 1 correct numbers in the correct position. Keep guessing.\n",
      "2171\n",
      "\n",
      "Your guess has 1 correct numbers in the wrong position and 0 correct numbers in the correct position. Keep guessing.\n"
     ]
    }
   ],
   "source": [
    "step_cnt = 0\n",
    "while not obs.done and step_cnt<10:\n",
    "    # Retrieve the agent output\n",
    "    agent_choice = agent.invoke(\n",
    "        {'input': obs.output,\n",
    "        'intermediate_steps': intermediate_steps}\n",
    "    )\n",
    "\n",
    "    action = Action(action_value=agent_choice.tool_input)\n",
    "    print(action.action_value)\n",
    "    # Perform the step\n",
    "    obs = driver.step(action)\n",
    "    print(obs.output)\n",
    "    # Update intermediate steps\n",
    "    intermediate_steps.append((agent_choice, obs.output))\n",
    "\n",
    "    step_cnt+=1"
   ]
  }
 ],
 "metadata": {
  "kernelspec": {
   "display_name": ".venv",
   "language": "python",
   "name": "python3"
  },
  "language_info": {
   "codemirror_mode": {
    "name": "ipython",
    "version": 3
   },
   "file_extension": ".py",
   "mimetype": "text/x-python",
   "name": "python",
   "nbconvert_exporter": "python",
   "pygments_lexer": "ipython3",
   "version": "3.10.6"
  }
 },
 "nbformat": 4,
 "nbformat_minor": 2
}
