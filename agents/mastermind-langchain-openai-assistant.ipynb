{
 "cells": [
  {
   "cell_type": "markdown",
   "metadata": {},
   "source": [
    "# LangChain OpenAI Assistant agent"
   ]
  },
  {
   "cell_type": "code",
   "execution_count": null,
   "metadata": {},
   "outputs": [],
   "source": [
    "! pip3 install openai\n",
    "! pip3 install langchain"
   ]
  },
  {
   "cell_type": "code",
   "execution_count": null,
   "metadata": {},
   "outputs": [],
   "source": [
    "import os\n",
    "os.environ[\"OPENAI_API_KEY\"] = \"\""
   ]
  },
  {
   "cell_type": "code",
   "execution_count": 2,
   "metadata": {},
   "outputs": [],
   "source": [
    "from agentquest.drivers.mastermind import MasterMindDriver\n",
    "from agentquest.utils import Action, load_data\n",
    "from termcolor import cprint"
   ]
  },
  {
   "cell_type": "markdown",
   "metadata": {},
   "source": [
    "Load a generic 4 digits mastermind game"
   ]
  },
  {
   "cell_type": "code",
   "execution_count": 3,
   "metadata": {},
   "outputs": [],
   "source": [
    "game = load_data('mastermind', '4 digits')[0]"
   ]
  },
  {
   "cell_type": "markdown",
   "metadata": {},
   "source": [
    "Initialize the prompt and the OpenAI Assistant agent"
   ]
  },
  {
   "cell_type": "code",
   "execution_count": 4,
   "metadata": {},
   "outputs": [],
   "source": [
    "from langchain.agents.openai_assistant import OpenAIAssistantRunnable\n",
    "from langchain.schema.agent import AgentFinish\n",
    "from langchain.tools.base import BaseTool\n",
    "\n",
    "prompt = \"\"\"\n",
    "You are tasked to play the Mastermind game. The host chooses a number and gives\n",
    "you the amount of digits. You have to gess the correct number as fast as you can.\n",
    "\n",
    "Rules:\n",
    "1. At each round you provide a number as guess. The hosts provides you the number\n",
    "of correct digits in the wrong position and the number of correct digits in the\n",
    "correct position.\n",
    "2. The game ends when the hosts outputs 'You Won!'\n",
    "3. The number can contain repetitions.\n",
    "4. The number can contain any possible digit.\n",
    "5. Avoid bruteforce.\n",
    "\n",
    "Guess the number:\n",
    "\"\"\"\n",
    "\n",
    "# Define a dummy tool for closed-box environments\n",
    "class ProxyTool(BaseTool):\n",
    "    name = \"proxytool\"\n",
    "    description = \"Provide the action you want to perform\"\n",
    "    def _run(self): \n",
    "        pass"
   ]
  },
  {
   "cell_type": "code",
   "execution_count": 5,
   "metadata": {},
   "outputs": [],
   "source": [
    "agent = OpenAIAssistantRunnable.create_assistant(\n",
    "    name=\"Mastermind OpenAI assistant\",\n",
    "    instructions=prompt,\n",
    "    tools=[ProxyTool()],\n",
    "    model=\"gpt-4-1106-preview\",\n",
    "    as_agent=True,\n",
    ")"
   ]
  },
  {
   "cell_type": "markdown",
   "metadata": {},
   "source": [
    "Initialize the mastermind driver and get the first observation"
   ]
  },
  {
   "cell_type": "code",
   "execution_count": 6,
   "metadata": {},
   "outputs": [
    {
     "name": "stdout",
     "output_type": "stream",
     "text": [
      "OBSERVATION: Start guessing the 4 digits number.\n"
     ]
    }
   ],
   "source": [
    "driver = MasterMindDriver(game)\n",
    "obs = driver.reset() # Get the first observation\n",
    "print(f'OBSERVATION: {obs.output}')"
   ]
  },
  {
   "cell_type": "markdown",
   "metadata": {},
   "source": [
    "Start the Agent loop solving the task"
   ]
  },
  {
   "cell_type": "code",
   "execution_count": 7,
   "metadata": {},
   "outputs": [
    {
     "name": "stdout",
     "output_type": "stream",
     "text": [
      "1234\n",
      "Your guess has 1 correct numbers in the wrong position and 0 correct numbers in the correct position. Keep guessing.\n",
      "5678\n",
      "Your guess has 0 correct numbers in the wrong position and 2 correct numbers in the correct position. Keep guessing.\n",
      "5876\n",
      "Your guess has 1 correct numbers in the wrong position and 1 correct numbers in the correct position. Keep guessing.\n",
      "5676\n",
      "Your guess has 0 correct numbers in the wrong position and 1 correct numbers in the correct position. Keep guessing.\n",
      "5768\n",
      "Your guess has 0 correct numbers in the wrong position and 2 correct numbers in the correct position. Keep guessing.\n",
      "5798\n",
      "Your guess has 1 correct numbers in the wrong position and 2 correct numbers in the correct position. Keep guessing.\n",
      "5978\n",
      "Your guess has 0 correct numbers in the wrong position and 3 correct numbers in the correct position. Keep guessing.\n",
      "5970\n",
      "Your guess has 0 correct numbers in the wrong position and 2 correct numbers in the correct position. Keep guessing.\n",
      "5971\n",
      "Your guess has 1 correct numbers in the wrong position and 2 correct numbers in the correct position. Keep guessing.\n",
      "5197\n",
      "Your guess has 2 correct numbers in the wrong position and 1 correct numbers in the correct position. Keep guessing.\n"
     ]
    }
   ],
   "source": [
    "response = agent.invoke({\"content\": obs.output})\n",
    "step_cnt = 0\n",
    "while not obs.done and step_cnt<10 and not isinstance(response, AgentFinish):\n",
    "    tool_outputs = []\n",
    "    # print(response)\n",
    "    for _action in response:\n",
    "\n",
    "        agent_guess = _action.tool_input\n",
    "        # print(_action)\n",
    "        action = Action(action_value=agent_guess)\n",
    "        print(agent_guess)\n",
    "        # Build the action and perform the step\n",
    "        obs = driver.step(action)\n",
    "        print(obs.output)\n",
    "        if obs.done:\n",
    "            break\n",
    "        # Manage Proxy Tool output\n",
    "        tool_outputs.append(\n",
    "            {\"output\": obs.output, \n",
    "            \"tool_call_id\": _action.tool_call_id}\n",
    "        )\n",
    "    # Get the new action\n",
    "    response = agent.invoke(\n",
    "        {\"tool_outputs\": tool_outputs,\n",
    "        \"run_id\": _action.run_id,\n",
    "        \"thread_id\": _action.thread_id}\n",
    "    )\n",
    "\n",
    "    step_cnt+=1"
   ]
  }
 ],
 "metadata": {
  "kernelspec": {
   "display_name": ".venv",
   "language": "python",
   "name": "python3"
  },
  "language_info": {
   "codemirror_mode": {
    "name": "ipython",
    "version": 3
   },
   "file_extension": ".py",
   "mimetype": "text/x-python",
   "name": "python",
   "nbconvert_exporter": "python",
   "pygments_lexer": "ipython3",
   "version": "3.10.6"
  }
 },
 "nbformat": 4,
 "nbformat_minor": 2
}
